{
  "nbformat": 4,
  "nbformat_minor": 0,
  "metadata": {
    "colab": {
      "provenance": [],
      "gpuType": "T4",
      "authorship_tag": "ABX9TyObxRbVTLXoyPrNW8ppxMBx",
      "include_colab_link": true
    },
    "kernelspec": {
      "name": "python3",
      "display_name": "Python 3"
    },
    "language_info": {
      "name": "python"
    },
    "accelerator": "GPU"
  },
  "cells": [
    {
      "cell_type": "markdown",
      "metadata": {
        "id": "view-in-github",
        "colab_type": "text"
      },
      "source": [
        "<a href=\"https://colab.research.google.com/github/msamdk/Computer-vision/blob/main/pytorch_lesson.ipynb\" target=\"_parent\"><img src=\"https://colab.research.google.com/assets/colab-badge.svg\" alt=\"Open In Colab\"/></a>"
      ]
    },
    {
      "cell_type": "code",
      "source": [
        "import torch\n",
        "import numpy as np\n"
      ],
      "metadata": {
        "id": "g-NKX5rsgGwW"
      },
      "execution_count": 6,
      "outputs": []
    },
    {
      "cell_type": "markdown",
      "source": [
        "***Tensors***\n",
        "\n",
        "just like a numpy array.\n",
        "Its a multidimensional matrix containing elements of a single datat type\n",
        "default data type of float32\n",
        "more suitable for DL than numpy array (default is float64)"
      ],
      "metadata": {
        "id": "5IydNGE-jB0J"
      }
    },
    {
      "cell_type": "code",
      "source": [
        "#----Lists-------\n",
        "#example multi dimensional array\n",
        "my_list = [1,2,3,4,5], [6,7,8,9,10]\n",
        "my_list"
      ],
      "metadata": {
        "colab": {
          "base_uri": "https://localhost:8080/"
        },
        "id": "4RtwY_LEgvTd",
        "outputId": "a6f2ee1b-770c-49c4-fd16-1cb2ece5db27"
      },
      "execution_count": 4,
      "outputs": [
        {
          "output_type": "execute_result",
          "data": {
            "text/plain": [
              "([1, 2, 3, 4, 5], [6, 7, 8, 9, 10])"
            ]
          },
          "metadata": {},
          "execution_count": 4
        }
      ]
    },
    {
      "cell_type": "code",
      "source": [
        "#----NUMPY Array----\n",
        "np1 = np.random.rand(3,4)\n",
        "np1"
      ],
      "metadata": {
        "colab": {
          "base_uri": "https://localhost:8080/"
        },
        "id": "YMlGkSbBjE8x",
        "outputId": "0b6f7b9f-9eb3-47d2-a855-fadbe1fdfce7"
      },
      "execution_count": 7,
      "outputs": [
        {
          "output_type": "execute_result",
          "data": {
            "text/plain": [
              "array([[0.72957865, 0.20768169, 0.49512406, 0.09929317],\n",
              "       [0.10737892, 0.9171805 , 0.64754531, 0.57820854],\n",
              "       [0.63366925, 0.33547789, 0.55990174, 0.05826341]])"
            ]
          },
          "metadata": {},
          "execution_count": 7
        }
      ]
    },
    {
      "cell_type": "code",
      "source": [
        "np1.dtype"
      ],
      "metadata": {
        "colab": {
          "base_uri": "https://localhost:8080/"
        },
        "id": "3GsGfB6Hj2kz",
        "outputId": "6134ab18-d3c0-4179-9756-350944c267d1"
      },
      "execution_count": 8,
      "outputs": [
        {
          "output_type": "execute_result",
          "data": {
            "text/plain": [
              "dtype('float64')"
            ]
          },
          "metadata": {},
          "execution_count": 8
        }
      ]
    },
    {
      "cell_type": "code",
      "source": [],
      "metadata": {
        "id": "3uRzL1FMkxtG"
      },
      "execution_count": null,
      "outputs": []
    }
  ]
}